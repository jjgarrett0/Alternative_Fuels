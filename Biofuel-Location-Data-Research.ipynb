{
 "cells": [
  {
   "cell_type": "markdown",
   "metadata": {},
   "source": [
    "# Biofuel Location Data Research for the US"
   ]
  },
  {
   "cell_type": "markdown",
   "metadata": {},
   "source": [
    "I'll be exploring Location Data information for Biofuels in the US. This will hopefully lead to an easier way to look up this information. The current web pages or mobile apps that contain this information aren't the easiest to use. My hope is that after exploring this data I can create something that will make it easy for biofuel users to find the infromation they need."
   ]
  },
  {
   "cell_type": "code",
   "execution_count": 1,
   "metadata": {
    "collapsed": false
   },
   "outputs": [
    {
     "name": "stdout",
     "output_type": "stream",
     "text": [
      "Populating the interactive namespace from numpy and matplotlib\n"
     ]
    }
   ],
   "source": [
    "#Import statements\n",
    "import pandas as pd\n",
    "import numpy as np\n",
    "import seaborn as sb\n",
    "%pylab inline"
   ]
  },
  {
   "cell_type": "code",
   "execution_count": 31,
   "metadata": {
    "collapsed": true
   },
   "outputs": [],
   "source": [
    "import gmplot"
   ]
  },
  {
   "cell_type": "code",
   "execution_count": 27,
   "metadata": {
    "collapsed": true
   },
   "outputs": [],
   "source": [
    "pylab.rcParams['figure.figsize'] = (15, 10)"
   ]
  },
  {
   "cell_type": "code",
   "execution_count": 2,
   "metadata": {
    "collapsed": false
   },
   "outputs": [],
   "source": [
    "#Allows all columns to be seen in dataframe\n",
    "pd.set_option('display.max_columns', None)"
   ]
  },
  {
   "cell_type": "code",
   "execution_count": 3,
   "metadata": {
    "collapsed": true
   },
   "outputs": [],
   "source": [
    "#Import data from csv into pandas dataframe\n",
    "data = pd.read_csv(\"04232015altfuelstations.csv\")"
   ]
  },
  {
   "cell_type": "code",
   "execution_count": 4,
   "metadata": {
    "collapsed": false
   },
   "outputs": [
    {
     "data": {
      "text/plain": [
       "Index([u'Fuel Type Code', u'Station Name', u'Street Address',\n",
       "       u'Intersection Directions', u'City', u'State', u'ZIP', u'Plus4',\n",
       "       u'Station Phone', u'Status Code', u'Expected Date',\n",
       "       u'Groups With Access Code', u'Access Days Time', u'Cards Accepted',\n",
       "       u'BD Blends', u'NG Fill Type Code', u'NG PSI', u'EV Level1 EVSE Num',\n",
       "       u'EV Level2 EVSE Num', u'EV DC Fast Count', u'EV Other Info',\n",
       "       u'EV Network', u'EV Network Web', u'Geocode Status', u'Latitude',\n",
       "       u'Longitude', u'Date Last Confirmed', u'ID', u'Updated At',\n",
       "       u'Owner Type Code', u'Federal Agency ID', u'Federal Agency Name',\n",
       "       u'Open Date', u'Hydrogen Status Link', u'NG Vehicle Class',\n",
       "       u'LPG Primary', u'E85 Blender Pump', u'EV Connector Types'],\n",
       "      dtype='object')"
      ]
     },
     "execution_count": 4,
     "metadata": {},
     "output_type": "execute_result"
    }
   ],
   "source": [
    "data.columns"
   ]
  },
  {
   "cell_type": "code",
   "execution_count": 6,
   "metadata": {
    "collapsed": false
   },
   "outputs": [
    {
     "data": {
      "text/html": [
       "<div>\n",
       "<table border=\"1\" class=\"dataframe\">\n",
       "  <thead>\n",
       "    <tr style=\"text-align: right;\">\n",
       "      <th></th>\n",
       "      <th>Fuel Type Code</th>\n",
       "      <th>Station Name</th>\n",
       "      <th>Street Address</th>\n",
       "      <th>Intersection Directions</th>\n",
       "      <th>City</th>\n",
       "      <th>State</th>\n",
       "      <th>ZIP</th>\n",
       "      <th>Plus4</th>\n",
       "      <th>Station Phone</th>\n",
       "      <th>Status Code</th>\n",
       "      <th>Expected Date</th>\n",
       "      <th>Groups With Access Code</th>\n",
       "      <th>Access Days Time</th>\n",
       "      <th>Cards Accepted</th>\n",
       "      <th>BD Blends</th>\n",
       "      <th>NG Fill Type Code</th>\n",
       "      <th>NG PSI</th>\n",
       "      <th>EV Level1 EVSE Num</th>\n",
       "      <th>EV Level2 EVSE Num</th>\n",
       "      <th>EV DC Fast Count</th>\n",
       "      <th>EV Other Info</th>\n",
       "      <th>EV Network</th>\n",
       "      <th>EV Network Web</th>\n",
       "      <th>Geocode Status</th>\n",
       "      <th>Latitude</th>\n",
       "      <th>Longitude</th>\n",
       "      <th>Date Last Confirmed</th>\n",
       "      <th>ID</th>\n",
       "      <th>Updated At</th>\n",
       "      <th>Owner Type Code</th>\n",
       "      <th>Federal Agency ID</th>\n",
       "      <th>Federal Agency Name</th>\n",
       "      <th>Open Date</th>\n",
       "      <th>Hydrogen Status Link</th>\n",
       "      <th>NG Vehicle Class</th>\n",
       "      <th>LPG Primary</th>\n",
       "      <th>E85 Blender Pump</th>\n",
       "      <th>EV Connector Types</th>\n",
       "    </tr>\n",
       "  </thead>\n",
       "  <tbody>\n",
       "    <tr>\n",
       "      <th>0</th>\n",
       "      <td>LPG</td>\n",
       "      <td>Irish Propane</td>\n",
       "      <td>70 Katherine St</td>\n",
       "      <td>At Bailey and Clinton</td>\n",
       "      <td>Buffalo</td>\n",
       "      <td>NY</td>\n",
       "      <td>14210</td>\n",
       "      <td>NaN</td>\n",
       "      <td>716-852-3335</td>\n",
       "      <td>E</td>\n",
       "      <td>NaN</td>\n",
       "      <td>Public</td>\n",
       "      <td>8am-4:45pm M-F</td>\n",
       "      <td>Cash A D M V</td>\n",
       "      <td>NaN</td>\n",
       "      <td>NaN</td>\n",
       "      <td>NaN</td>\n",
       "      <td>NaN</td>\n",
       "      <td>NaN</td>\n",
       "      <td>NaN</td>\n",
       "      <td>NaN</td>\n",
       "      <td>NaN</td>\n",
       "      <td>NaN</td>\n",
       "      <td>GPS</td>\n",
       "      <td>42.859400</td>\n",
       "      <td>-78.858933</td>\n",
       "      <td>2015-04-03</td>\n",
       "      <td>13444</td>\n",
       "      <td>2015-04-03 16:57:34 UTC</td>\n",
       "      <td>P</td>\n",
       "      <td>NaN</td>\n",
       "      <td>NaN</td>\n",
       "      <td>NaN</td>\n",
       "      <td>NaN</td>\n",
       "      <td>NaN</td>\n",
       "      <td>False</td>\n",
       "      <td>NaN</td>\n",
       "      <td>NaN</td>\n",
       "    </tr>\n",
       "    <tr>\n",
       "      <th>1</th>\n",
       "      <td>ELEC</td>\n",
       "      <td>Latitudes</td>\n",
       "      <td>2401 Highway 528</td>\n",
       "      <td>NaN</td>\n",
       "      <td>Rio Rancho</td>\n",
       "      <td>NM</td>\n",
       "      <td>87124</td>\n",
       "      <td>NaN</td>\n",
       "      <td>505-369-7777</td>\n",
       "      <td>E</td>\n",
       "      <td>NaN</td>\n",
       "      <td>Public</td>\n",
       "      <td>24 hours daily</td>\n",
       "      <td>NaN</td>\n",
       "      <td>NaN</td>\n",
       "      <td>NaN</td>\n",
       "      <td>NaN</td>\n",
       "      <td>NaN</td>\n",
       "      <td>2.0</td>\n",
       "      <td>NaN</td>\n",
       "      <td>NaN</td>\n",
       "      <td>NaN</td>\n",
       "      <td>NaN</td>\n",
       "      <td>200-8</td>\n",
       "      <td>35.218430</td>\n",
       "      <td>-106.663000</td>\n",
       "      <td>2015-01-06</td>\n",
       "      <td>50083</td>\n",
       "      <td>2015-01-06 17:43:46 UTC</td>\n",
       "      <td>P</td>\n",
       "      <td>NaN</td>\n",
       "      <td>NaN</td>\n",
       "      <td>2012-08-01</td>\n",
       "      <td>NaN</td>\n",
       "      <td>NaN</td>\n",
       "      <td>NaN</td>\n",
       "      <td>NaN</td>\n",
       "      <td>J1772</td>\n",
       "    </tr>\n",
       "    <tr>\n",
       "      <th>2</th>\n",
       "      <td>ELEC</td>\n",
       "      <td>American Bush - Solar Canopy</td>\n",
       "      <td>2630 S 300 W</td>\n",
       "      <td>Located across from Tire World</td>\n",
       "      <td>Salt Lake City</td>\n",
       "      <td>UT</td>\n",
       "      <td>84115</td>\n",
       "      <td>NaN</td>\n",
       "      <td>801-518-3529</td>\n",
       "      <td>E</td>\n",
       "      <td>NaN</td>\n",
       "      <td>Public</td>\n",
       "      <td>24 hours daily</td>\n",
       "      <td>NaN</td>\n",
       "      <td>NaN</td>\n",
       "      <td>NaN</td>\n",
       "      <td>NaN</td>\n",
       "      <td>NaN</td>\n",
       "      <td>2.0</td>\n",
       "      <td>NaN</td>\n",
       "      <td>NaN</td>\n",
       "      <td>NaN</td>\n",
       "      <td>NaN</td>\n",
       "      <td>200-8</td>\n",
       "      <td>40.714420</td>\n",
       "      <td>-111.900105</td>\n",
       "      <td>2015-01-06</td>\n",
       "      <td>42013</td>\n",
       "      <td>2015-01-06 17:47:30 UTC</td>\n",
       "      <td>P</td>\n",
       "      <td>NaN</td>\n",
       "      <td>NaN</td>\n",
       "      <td>2011-12-01</td>\n",
       "      <td>NaN</td>\n",
       "      <td>NaN</td>\n",
       "      <td>NaN</td>\n",
       "      <td>NaN</td>\n",
       "      <td>J1772</td>\n",
       "    </tr>\n",
       "    <tr>\n",
       "      <th>3</th>\n",
       "      <td>ELEC</td>\n",
       "      <td>McDonald's #31850 - Flower Mound TX</td>\n",
       "      <td>3601 FM 407</td>\n",
       "      <td>NaN</td>\n",
       "      <td>Flower Mound</td>\n",
       "      <td>TX</td>\n",
       "      <td>75028</td>\n",
       "      <td>NaN</td>\n",
       "      <td>888-998-2546</td>\n",
       "      <td>E</td>\n",
       "      <td>NaN</td>\n",
       "      <td>Public</td>\n",
       "      <td>MON: 24 hours | TUE: 24 hours | WED: 24 hours ...</td>\n",
       "      <td>NaN</td>\n",
       "      <td>NaN</td>\n",
       "      <td>NaN</td>\n",
       "      <td>NaN</td>\n",
       "      <td>NaN</td>\n",
       "      <td>1.0</td>\n",
       "      <td>NaN</td>\n",
       "      <td>NaN</td>\n",
       "      <td>Blink Network</td>\n",
       "      <td>http://www.blinknetwork.com/</td>\n",
       "      <td>GPS</td>\n",
       "      <td>33.071809</td>\n",
       "      <td>-97.085119</td>\n",
       "      <td>2015-04-23</td>\n",
       "      <td>63495</td>\n",
       "      <td>2015-04-23 07:09:51 UTC</td>\n",
       "      <td>NaN</td>\n",
       "      <td>NaN</td>\n",
       "      <td>NaN</td>\n",
       "      <td>NaN</td>\n",
       "      <td>NaN</td>\n",
       "      <td>NaN</td>\n",
       "      <td>NaN</td>\n",
       "      <td>NaN</td>\n",
       "      <td>J1772</td>\n",
       "    </tr>\n",
       "    <tr>\n",
       "      <th>4</th>\n",
       "      <td>ELEC</td>\n",
       "      <td>CITY OF SEATTLE</td>\n",
       "      <td>600 Pine St</td>\n",
       "      <td>NaN</td>\n",
       "      <td>Seattle</td>\n",
       "      <td>WA</td>\n",
       "      <td>98101</td>\n",
       "      <td>NaN</td>\n",
       "      <td>888-758-4389</td>\n",
       "      <td>E</td>\n",
       "      <td>NaN</td>\n",
       "      <td>Public</td>\n",
       "      <td>24 hours daily</td>\n",
       "      <td>NaN</td>\n",
       "      <td>NaN</td>\n",
       "      <td>NaN</td>\n",
       "      <td>NaN</td>\n",
       "      <td>NaN</td>\n",
       "      <td>7.0</td>\n",
       "      <td>NaN</td>\n",
       "      <td>NaN</td>\n",
       "      <td>ChargePoint Network</td>\n",
       "      <td>http://www.mychargepoint.net/</td>\n",
       "      <td>200-8</td>\n",
       "      <td>47.612514</td>\n",
       "      <td>-122.335409</td>\n",
       "      <td>2015-04-23</td>\n",
       "      <td>43306</td>\n",
       "      <td>2015-04-23 07:54:36 UTC</td>\n",
       "      <td>NaN</td>\n",
       "      <td>NaN</td>\n",
       "      <td>NaN</td>\n",
       "      <td>NaN</td>\n",
       "      <td>NaN</td>\n",
       "      <td>NaN</td>\n",
       "      <td>NaN</td>\n",
       "      <td>NaN</td>\n",
       "      <td>J1772</td>\n",
       "    </tr>\n",
       "  </tbody>\n",
       "</table>\n",
       "</div>"
      ],
      "text/plain": [
       "  Fuel Type Code                         Station Name    Street Address  \\\n",
       "0            LPG                        Irish Propane   70 Katherine St   \n",
       "1           ELEC                            Latitudes  2401 Highway 528   \n",
       "2           ELEC         American Bush - Solar Canopy      2630 S 300 W   \n",
       "3           ELEC  McDonald's #31850 - Flower Mound TX       3601 FM 407   \n",
       "4           ELEC                      CITY OF SEATTLE       600 Pine St   \n",
       "\n",
       "          Intersection Directions            City State    ZIP  Plus4  \\\n",
       "0           At Bailey and Clinton         Buffalo    NY  14210    NaN   \n",
       "1                             NaN      Rio Rancho    NM  87124    NaN   \n",
       "2  Located across from Tire World  Salt Lake City    UT  84115    NaN   \n",
       "3                             NaN    Flower Mound    TX  75028    NaN   \n",
       "4                             NaN         Seattle    WA  98101    NaN   \n",
       "\n",
       "  Station Phone Status Code Expected Date Groups With Access Code  \\\n",
       "0  716-852-3335           E           NaN                  Public   \n",
       "1  505-369-7777           E           NaN                  Public   \n",
       "2  801-518-3529           E           NaN                  Public   \n",
       "3  888-998-2546           E           NaN                  Public   \n",
       "4  888-758-4389           E           NaN                  Public   \n",
       "\n",
       "                                    Access Days Time Cards Accepted BD Blends  \\\n",
       "0                                     8am-4:45pm M-F   Cash A D M V       NaN   \n",
       "1                                     24 hours daily            NaN       NaN   \n",
       "2                                     24 hours daily            NaN       NaN   \n",
       "3  MON: 24 hours | TUE: 24 hours | WED: 24 hours ...            NaN       NaN   \n",
       "4                                     24 hours daily            NaN       NaN   \n",
       "\n",
       "  NG Fill Type Code NG PSI  EV Level1 EVSE Num  EV Level2 EVSE Num  \\\n",
       "0               NaN    NaN                 NaN                 NaN   \n",
       "1               NaN    NaN                 NaN                 2.0   \n",
       "2               NaN    NaN                 NaN                 2.0   \n",
       "3               NaN    NaN                 NaN                 1.0   \n",
       "4               NaN    NaN                 NaN                 7.0   \n",
       "\n",
       "   EV DC Fast Count EV Other Info           EV Network  \\\n",
       "0               NaN           NaN                  NaN   \n",
       "1               NaN           NaN                  NaN   \n",
       "2               NaN           NaN                  NaN   \n",
       "3               NaN           NaN        Blink Network   \n",
       "4               NaN           NaN  ChargePoint Network   \n",
       "\n",
       "                  EV Network Web Geocode Status   Latitude   Longitude  \\\n",
       "0                            NaN            GPS  42.859400  -78.858933   \n",
       "1                            NaN          200-8  35.218430 -106.663000   \n",
       "2                            NaN          200-8  40.714420 -111.900105   \n",
       "3   http://www.blinknetwork.com/            GPS  33.071809  -97.085119   \n",
       "4  http://www.mychargepoint.net/          200-8  47.612514 -122.335409   \n",
       "\n",
       "  Date Last Confirmed     ID               Updated At Owner Type Code  \\\n",
       "0          2015-04-03  13444  2015-04-03 16:57:34 UTC               P   \n",
       "1          2015-01-06  50083  2015-01-06 17:43:46 UTC               P   \n",
       "2          2015-01-06  42013  2015-01-06 17:47:30 UTC               P   \n",
       "3          2015-04-23  63495  2015-04-23 07:09:51 UTC             NaN   \n",
       "4          2015-04-23  43306  2015-04-23 07:54:36 UTC             NaN   \n",
       "\n",
       "   Federal Agency ID Federal Agency Name   Open Date Hydrogen Status Link  \\\n",
       "0                NaN                 NaN         NaN                  NaN   \n",
       "1                NaN                 NaN  2012-08-01                  NaN   \n",
       "2                NaN                 NaN  2011-12-01                  NaN   \n",
       "3                NaN                 NaN         NaN                  NaN   \n",
       "4                NaN                 NaN         NaN                  NaN   \n",
       "\n",
       "  NG Vehicle Class LPG Primary E85 Blender Pump EV Connector Types  \n",
       "0              NaN       False              NaN                NaN  \n",
       "1              NaN         NaN              NaN              J1772  \n",
       "2              NaN         NaN              NaN              J1772  \n",
       "3              NaN         NaN              NaN              J1772  \n",
       "4              NaN         NaN              NaN              J1772  "
      ]
     },
     "execution_count": 6,
     "metadata": {},
     "output_type": "execute_result"
    }
   ],
   "source": [
    "#Select Data for State = TN\n",
    "data.head()"
   ]
  },
  {
   "cell_type": "markdown",
   "metadata": {},
   "source": [
    "#### Plot the number of Alternative Fueling Stations per State"
   ]
  },
  {
   "cell_type": "code",
   "execution_count": 29,
   "metadata": {
    "collapsed": false
   },
   "outputs": [
    {
     "data": {
      "text/plain": [
       "<matplotlib.axes._subplots.AxesSubplot at 0x11bc2ae50>"
      ]
     },
     "execution_count": 29,
     "metadata": {},
     "output_type": "execute_result"
    },
    {
     "data": {
      "image/png": "[encoded data removed]",
      "text/plain": [
       "<matplotlib.figure.Figure at 0x11bba82d0>"
      ]
     },
     "metadata": {},
     "output_type": "display_data"
    }
   ],
   "source": [
    "data['State'].value_counts().plot(kind='bar',)"
   ]
  },
  {
   "cell_type": "markdown",
   "metadata": {},
   "source": [
    "## Plot Fueling Station Locations as a heatmap on Google Maps."
   ]
  },
  {
   "cell_type": "markdown",
   "metadata": {},
   "source": [
    "Convert Latitudes and Longitudes to list to use with heatmap."
   ]
  },
  {
   "cell_type": "code",
   "execution_count": 96,
   "metadata": {
    "collapsed": true
   },
   "outputs": [],
   "source": [
    "lats = data['Latitude']"
   ]
  },
  {
   "cell_type": "code",
   "execution_count": 97,
   "metadata": {
    "collapsed": false
   },
   "outputs": [
    {
     "data": {
      "text/plain": [
       "<bound method Series.tolist of 0        42.859400\n",
       "1        35.218430\n",
       "2        40.714420\n",
       "3        33.071809\n",
       "4        47.612514\n",
       "5        37.795027\n",
       "6        39.952873\n",
       "7        32.983800\n",
       "8        47.527427\n",
       "9        41.418059\n",
       "10       42.672791\n",
       "11       41.809601\n",
       "12       37.753135\n",
       "13       47.623950\n",
       "14       39.982250\n",
       "15       35.199728\n",
       "16       41.139869\n",
       "17       39.408182\n",
       "18       47.590015\n",
       "19       42.770945\n",
       "20       47.937520\n",
       "21       28.590904\n",
       "22       37.506731\n",
       "23       40.394483\n",
       "24       35.210144\n",
       "25       33.133685\n",
       "26       28.235289\n",
       "27       40.720647\n",
       "28       41.242703\n",
       "29       48.102884\n",
       "           ...    \n",
       "20299    34.727834\n",
       "20300    28.415073\n",
       "20301    39.327320\n",
       "20302    44.788800\n",
       "20303    35.320213\n",
       "20304    38.247073\n",
       "20305    37.244644\n",
       "20306    44.948972\n",
       "20307    33.504061\n",
       "20308    27.286958\n",
       "20309    40.702332\n",
       "20310    38.664295\n",
       "20311    33.862142\n",
       "20312    42.339573\n",
       "20313    34.686097\n",
       "20314    33.729855\n",
       "20315    40.325461\n",
       "20316    32.808147\n",
       "20317    42.316406\n",
       "20318    29.687176\n",
       "20319    38.916440\n",
       "20320    37.784853\n",
       "20321    41.885386\n",
       "20322    35.798832\n",
       "20323    40.385003\n",
       "20324    40.389149\n",
       "20325    41.594741\n",
       "20326    21.277214\n",
       "20327    34.051266\n",
       "20328    44.826934\n",
       "Name: Latitude, dtype: float64>"
      ]
     },
     "execution_count": 97,
     "metadata": {},
     "output_type": "execute_result"
    }
   ],
   "source": [
    "lats.tolist"
   ]
  },
  {
   "cell_type": "code",
   "execution_count": 98,
   "metadata": {
    "collapsed": true
   },
   "outputs": [],
   "source": [
    "longs = data['Longitude']"
   ]
  },
  {
   "cell_type": "code",
   "execution_count": 99,
   "metadata": {
    "collapsed": false
   },
   "outputs": [
    {
     "data": {
      "text/plain": [
       "<bound method Series.tolist of 0        -78.858933\n",
       "1       -106.663000\n",
       "2       -111.900105\n",
       "3        -97.085119\n",
       "4       -122.335409\n",
       "5       -122.398500\n",
       "6        -75.152862\n",
       "7        -96.845317\n",
       "8       -121.823532\n",
       "9        -81.802714\n",
       "10       -88.255600\n",
       "11       -71.408853\n",
       "12      -122.404374\n",
       "13      -122.337078\n",
       "14       -74.808612\n",
       "15       -90.007121\n",
       "16      -112.063257\n",
       "17       -84.506658\n",
       "18      -122.228546\n",
       "19       -73.753012\n",
       "20       -97.014548\n",
       "21       -81.366096\n",
       "22       -77.479080\n",
       "23      -104.736046\n",
       "24       -87.054365\n",
       "25      -117.332123\n",
       "26       -82.181244\n",
       "27       -73.304128\n",
       "28       -76.998402\n",
       "29      -123.342597\n",
       "            ...    \n",
       "20299    -76.771224\n",
       "20300    -81.242279\n",
       "20301   -120.215000\n",
       "20302    -91.517527\n",
       "20303    -78.675775\n",
       "20304    -86.890074\n",
       "20305   -121.789673\n",
       "20306    -93.096200\n",
       "20307   -117.160365\n",
       "20308    -80.364542\n",
       "20309   -111.923648\n",
       "20310   -121.271623\n",
       "20311   -117.993147\n",
       "20312    -71.108666\n",
       "20313    -85.676894\n",
       "20314   -116.379108\n",
       "20315    -74.073654\n",
       "20316    -96.897319\n",
       "20317    -76.906917\n",
       "20318    -98.123774\n",
       "20319    -77.226710\n",
       "20320   -122.408501\n",
       "20321    -87.633637\n",
       "20322    -80.297069\n",
       "20323   -100.215225\n",
       "20324   -104.759796\n",
       "20325    -88.054419\n",
       "20326   -157.827271\n",
       "20327   -118.409640\n",
       "20328    -93.167972\n",
       "Name: Longitude, dtype: float64>"
      ]
     },
     "execution_count": 99,
     "metadata": {},
     "output_type": "execute_result"
    }
   ],
   "source": [
    "longs.tolist"
   ]
  },
  {
   "cell_type": "markdown",
   "metadata": {},
   "source": [
    "## Create Google Heat Map"
   ]
  },
  {
   "cell_type": "markdown",
   "metadata": {},
   "source": [
    "Start map zoom centered on continental United States and plot all latitude and longitude values on map. Output to html file for viewing."
   ]
  },
  {
   "cell_type": "code",
   "execution_count": 102,
   "metadata": {
    "collapsed": false
   },
   "outputs": [],
   "source": [
    "gmap = gmplot.GoogleMapPlotter(37.4419, -96.8, 5)\n",
    "gmap.heatmap(lats, longs)\n",
    "gmap.draw(\"mymap.html\")"
   ]
  },
  {
   "cell_type": "code",
   "execution_count": null,
   "metadata": {
    "collapsed": true
   },
   "outputs": [],
   "source": []
  }
 ],
 "metadata": {
  "kernelspec": {
   "display_name": "Python [IPython]",
   "language": "python",
   "name": "Python [IPython]"
  },
  "language_info": {
   "codemirror_mode": {
    "name": "ipython",
    "version": 2
   },
   "file_extension": ".py",
   "mimetype": "text/x-python",
   "name": "python",
   "nbconvert_exporter": "python",
   "pygments_lexer": "ipython2",
   "version": "2.7.12"
  }
 },
 "nbformat": 4,
 "nbformat_minor": 0
}
